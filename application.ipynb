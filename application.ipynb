!pip install streamlit langchain langdetect langchain-community huggingface_hub
!npm install localtunnel
!streamlit run app.py & npx localtunnel --port 8501
